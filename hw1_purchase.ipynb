{
 "cells": [
  {
   "cell_type": "markdown",
   "metadata": {},
   "source": [
    "### In-Game Purchase Data Analysis\n",
    "\n",
    "#### Background \n",
    "\n",
    "In this homework, you are ask to deal with a task of analyzing an \"in-game purchase\" dataset. In this game, players are able to to purchase optional items that enhance their playing experience. Now your task is to generate a report that breaks down the game's purchasing data into meaningful insights.\n",
    "\n",
    "-----\n",
    "\n",
    "#### Observable Trends\n",
    "\n",
    "* There are 1163 active players. The vast majority are male (84%). There also exists, a smaller, but notable proportion of female players (14%).\n",
    "\n",
    "* Our peak age demographic falls between 20-24 (44.79%) with secondary groups falling between 15-19 (18.58%) and 25-29 (13.37%). \n",
    "\n",
    "* The age group that spends the most money is the 20-24 with 1,114.06 dollars as total purchase value and an average purchase of 4.32. In contrast, the demographic group that has the highest average purchase is the 35-39 with 4.76 and a total purchase value of 147.67. \n",
    "-----\n"
   ]
  },
  {
   "cell_type": "code",
   "execution_count": 2,
   "metadata": {},
   "outputs": [],
   "source": [
    "import pandas as pd\n",
    "import numpy as np\n",
    "\n",
    "# Raw data file\n",
    "file_to_load = \"D:/purchase_data.csv\"\n",
    "\n",
    "# Read purchasing file and store into pandas data frame\n",
    "purchase_data = pd.read_csv(file_to_load)"
   ]
  },
  {
   "cell_type": "markdown",
   "metadata": {},
   "source": [
    "## Player Count"
   ]
  },
  {
   "cell_type": "markdown",
   "metadata": {},
   "source": [
    "* Display the total number of players\n"
   ]
  },
  {
   "cell_type": "code",
   "execution_count": 3,
   "metadata": {},
   "outputs": [
    {
     "data": {
      "text/html": [
       "<div>\n",
       "<style scoped>\n",
       "    .dataframe tbody tr th:only-of-type {\n",
       "        vertical-align: middle;\n",
       "    }\n",
       "\n",
       "    .dataframe tbody tr th {\n",
       "        vertical-align: top;\n",
       "    }\n",
       "\n",
       "    .dataframe thead th {\n",
       "        text-align: right;\n",
       "    }\n",
       "</style>\n",
       "<table border=\"1\" class=\"dataframe\">\n",
       "  <thead>\n",
       "    <tr style=\"text-align: right;\">\n",
       "      <th></th>\n",
       "      <th>Total Players</th>\n",
       "    </tr>\n",
       "  </thead>\n",
       "  <tbody>\n",
       "    <tr>\n",
       "      <th>0</th>\n",
       "      <td>576</td>\n",
       "    </tr>\n",
       "  </tbody>\n",
       "</table>\n",
       "</div>"
      ],
      "text/plain": [
       "   Total Players\n",
       "0            576"
      ]
     },
     "execution_count": 3,
     "metadata": {},
     "output_type": "execute_result"
    }
   ],
   "source": [
    "#Problem 1\n",
    "x1=purchase_data['SN']\n",
    "x1=x1.drop_duplicates(keep='first',inplace=False)#刪除重複之'SN'\n",
    "x1=x1.count()#計算玩家數量\n",
    "df1=pd.DataFrame(data=[x1],columns=['Total Players'])#整合成新的'DataFrame'\n",
    "df1#顯示答案"
   ]
  },
  {
   "cell_type": "markdown",
   "metadata": {},
   "source": [
    "## Purchasing Analysis (Total)"
   ]
  },
  {
   "cell_type": "markdown",
   "metadata": {},
   "source": [
    "* Run basic calculations to obtain number of unique items, average price, etc.\n",
    "* Create a summary data frame to hold the results\n",
    "* Display the summary data frame"
   ]
  },
  {
   "cell_type": "code",
   "execution_count": 4,
   "metadata": {
    "scrolled": true
   },
   "outputs": [
    {
     "data": {
      "text/html": [
       "<div>\n",
       "<style scoped>\n",
       "    .dataframe tbody tr th:only-of-type {\n",
       "        vertical-align: middle;\n",
       "    }\n",
       "\n",
       "    .dataframe tbody tr th {\n",
       "        vertical-align: top;\n",
       "    }\n",
       "\n",
       "    .dataframe thead th {\n",
       "        text-align: right;\n",
       "    }\n",
       "</style>\n",
       "<table border=\"1\" class=\"dataframe\">\n",
       "  <thead>\n",
       "    <tr style=\"text-align: right;\">\n",
       "      <th></th>\n",
       "      <th>Number of Unique Items</th>\n",
       "      <th>Average Price</th>\n",
       "      <th>Number of Purchases</th>\n",
       "      <th>Total Revenue</th>\n",
       "    </tr>\n",
       "  </thead>\n",
       "  <tbody>\n",
       "    <tr>\n",
       "      <th>0</th>\n",
       "      <td>183</td>\n",
       "      <td>3.043388</td>\n",
       "      <td>780</td>\n",
       "      <td>2373.842623</td>\n",
       "    </tr>\n",
       "  </tbody>\n",
       "</table>\n",
       "</div>"
      ],
      "text/plain": [
       "   Number of Unique Items  Average Price  Number of Purchases  Total Revenue\n",
       "0                     183       3.043388                  780    2373.842623"
      ]
     },
     "execution_count": 4,
     "metadata": {},
     "output_type": "execute_result"
    }
   ],
   "source": [
    "#Problem 2\n",
    "x2=purchase_data[['Item Name','Price']]#挑出所需資料\n",
    "x2_ItemName1=x2['Item Name'].count()#計算物品的數量\n",
    "x2=x2.drop_duplicates(keep='first',inplace=False)#刪去重複的'Item Name'\n",
    "x2_ItemName2=x2['Item Name'].count()#計算物品的數量(扣掉重複)\n",
    "x2_Price=x2['Price'].mean()#計算平均價格\n",
    "Total_Revenue=x2_Price*x2_ItemName1#計算總和\n",
    "df2=pd.DataFrame(data=[[x2_ItemName2,x2_Price,x2_ItemName1,Total_Revenue]],columns=['Number of Unique Items','Average Price','Number of Purchases','Total Revenue'])#整合成新的'DataFrame'\n",
    "df2#顯示答案"
   ]
  },
  {
   "cell_type": "markdown",
   "metadata": {},
   "source": [
    "## Gender Demographics"
   ]
  },
  {
   "cell_type": "markdown",
   "metadata": {},
   "source": [
    "* Percentage and Count of Male Players\n",
    "\n",
    "\n",
    "* Percentage and Count of Female Players\n",
    "\n",
    "\n",
    "* Percentage and Count of Other / Non-Disclosed\n",
    "\n",
    "\n"
   ]
  },
  {
   "cell_type": "code",
   "execution_count": 5,
   "metadata": {},
   "outputs": [
    {
     "data": {
      "text/html": [
       "<div>\n",
       "<style scoped>\n",
       "    .dataframe tbody tr th:only-of-type {\n",
       "        vertical-align: middle;\n",
       "    }\n",
       "\n",
       "    .dataframe tbody tr th {\n",
       "        vertical-align: top;\n",
       "    }\n",
       "\n",
       "    .dataframe thead th {\n",
       "        text-align: right;\n",
       "    }\n",
       "</style>\n",
       "<table border=\"1\" class=\"dataframe\">\n",
       "  <thead>\n",
       "    <tr style=\"text-align: right;\">\n",
       "      <th></th>\n",
       "      <th>Percentage of Players</th>\n",
       "      <th>Total Count</th>\n",
       "    </tr>\n",
       "  </thead>\n",
       "  <tbody>\n",
       "    <tr>\n",
       "      <th>Male</th>\n",
       "      <td>84.027778</td>\n",
       "      <td>484</td>\n",
       "    </tr>\n",
       "    <tr>\n",
       "      <th>Female</th>\n",
       "      <td>14.062500</td>\n",
       "      <td>81</td>\n",
       "    </tr>\n",
       "    <tr>\n",
       "      <th>Other / Non-Disclosed</th>\n",
       "      <td>1.909722</td>\n",
       "      <td>11</td>\n",
       "    </tr>\n",
       "  </tbody>\n",
       "</table>\n",
       "</div>"
      ],
      "text/plain": [
       "                       Percentage of Players  Total Count\n",
       "Male                               84.027778          484\n",
       "Female                             14.062500           81\n",
       "Other / Non-Disclosed               1.909722           11"
      ]
     },
     "execution_count": 5,
     "metadata": {},
     "output_type": "execute_result"
    }
   ],
   "source": [
    "#Problem 3\n",
    "x3=purchase_data[['SN','Gender']]#挑出所需資料\n",
    "x3=x3.drop_duplicates(keep='first',inplace=False)#刪除重複\n",
    "xx3=x3.groupby('Gender')[['SN']].count()#以各個'Gender'為index，計算各性別'SN'的數量\n",
    "Female,Male,Other_Non_Disclosed=xx3['SN'][0],xx3['SN'][1],xx3['SN'][2]#人數資料指派給代號\n",
    "total=Female+Male+Other_Non_Disclosed#計算總和\n",
    "Percentage_of_Female=(Female/total)*100#計算所占百分比\n",
    "Percentage_of_Male=(Male/total)*100#計算所占百分比\n",
    "Percentage_of_Other_Non_Disclosed=(Other_Non_Disclosed/total)*100#計算所占百分比\n",
    "df3=pd.DataFrame(data=[[Percentage_of_Male,Male],[Percentage_of_Female,Female],[Percentage_of_Other_Non_Disclosed,Other_Non_Disclosed]],columns=['Percentage of Players','Total Count'],index=['Male','Female','Other / Non-Disclosed'])#將資料整合成新的'DataFrame'\n",
    "df3#顯示答案"
   ]
  },
  {
   "cell_type": "markdown",
   "metadata": {},
   "source": [
    "\n",
    "## Purchasing Analysis (Gender)"
   ]
  },
  {
   "cell_type": "markdown",
   "metadata": {},
   "source": [
    "* Run basic calculations to obtain below values by gender\n",
    "  * Purchase Count\n",
    "  * Average Purchase Price  \n",
    "  * Total Purchase Value\n",
    "  * Average Purchase Total per Person by Gender\n",
    "* Create a summary data frame to hold the results\n",
    "* Display the summary data frame"
   ]
  },
  {
   "cell_type": "code",
   "execution_count": 6,
   "metadata": {},
   "outputs": [
    {
     "data": {
      "text/html": [
       "<div>\n",
       "<style scoped>\n",
       "    .dataframe tbody tr th:only-of-type {\n",
       "        vertical-align: middle;\n",
       "    }\n",
       "\n",
       "    .dataframe tbody tr th {\n",
       "        vertical-align: top;\n",
       "    }\n",
       "\n",
       "    .dataframe thead th {\n",
       "        text-align: right;\n",
       "    }\n",
       "</style>\n",
       "<table border=\"1\" class=\"dataframe\">\n",
       "  <thead>\n",
       "    <tr style=\"text-align: right;\">\n",
       "      <th></th>\n",
       "      <th>Purchase Count</th>\n",
       "      <th>Average Purchase Price</th>\n",
       "      <th>Total Purchase Value</th>\n",
       "      <th>Avg Purchase Total per Person</th>\n",
       "    </tr>\n",
       "  </thead>\n",
       "  <tbody>\n",
       "    <tr>\n",
       "      <th>Male</th>\n",
       "      <td>113</td>\n",
       "      <td>3.203009</td>\n",
       "      <td>361.94</td>\n",
       "      <td>4.468395</td>\n",
       "    </tr>\n",
       "    <tr>\n",
       "      <th>Female</th>\n",
       "      <td>652</td>\n",
       "      <td>3.017853</td>\n",
       "      <td>1967.64</td>\n",
       "      <td>4.065372</td>\n",
       "    </tr>\n",
       "    <tr>\n",
       "      <th>Other / Non-Disclosed</th>\n",
       "      <td>15</td>\n",
       "      <td>3.346000</td>\n",
       "      <td>50.19</td>\n",
       "      <td>4.562727</td>\n",
       "    </tr>\n",
       "  </tbody>\n",
       "</table>\n",
       "</div>"
      ],
      "text/plain": [
       "                       Purchase Count  Average Purchase Price  \\\n",
       "Male                              113                3.203009   \n",
       "Female                            652                3.017853   \n",
       "Other / Non-Disclosed              15                3.346000   \n",
       "\n",
       "                       Total Purchase Value  Avg Purchase Total per Person  \n",
       "Male                                 361.94                       4.468395  \n",
       "Female                              1967.64                       4.065372  \n",
       "Other / Non-Disclosed                 50.19                       4.562727  "
      ]
     },
     "execution_count": 6,
     "metadata": {},
     "output_type": "execute_result"
    }
   ],
   "source": [
    "#Problem 4\n",
    "x4=purchase_data[['SN','Gender','Price']]#挑出所需資料\n",
    "Purchase_Count=x4.groupby('Gender')[['SN']].count()#以各個'Gender'為index，計算各性別'SN'的個數\n",
    "Average_Purchase_Price=x4.groupby('Gender')[['Price']].mean()#以各個'Gender'為index，計算各性別'price'的平均\n",
    "Total_Purchase_Value=x4.groupby('Gender')[['Price']].sum()#以各個'Gender'為index，計算各性別'price'的總和\n",
    "Female0,Male0,Other_Non_Disclosed0=Purchase_Count['SN'][0],Purchase_Count['SN'][1],Purchase_Count['SN'][2]#資料指派給代號\n",
    "Female1,Male1,Other_Non_Disclosed1=Average_Purchase_Price['Price'][0],Average_Purchase_Price['Price'][1],Average_Purchase_Price['Price'][2]#資料指派給代號\n",
    "Female2,Male2,Other_Non_Disclosed2=Total_Purchase_Value['Price'][0],Total_Purchase_Value['Price'][1],Total_Purchase_Value['Price'][2]#資料指派給代號\n",
    "Female,Male,Other_Non_Disclosed=xx3['SN'][0],xx3['SN'][1],xx3['SN'][2]#資料指派給代號\n",
    "#Avg_Purchase_Total_per_Person\n",
    "APTPP_F=Female2/Female#計算扣除重複'SN'後之平均\n",
    "APTPP_M=Male2/Male#計算扣除重複'SN'後之平均\n",
    "APTPP_O=Other_Non_Disclosed2/Other_Non_Disclosed#計算扣除重複'SN'後之平均\n",
    "df4=pd.DataFrame(data=[[Female0,Female1,Female2,APTPP_F],[Male0,Male1,Male2,APTPP_M],[Other_Non_Disclosed0,Other_Non_Disclosed1,Other_Non_Disclosed2,APTPP_O]],columns=['Purchase Count','Average Purchase Price','Total Purchase Value','Avg Purchase Total per Person'],index=['Male','Female','Other / Non-Disclosed'])#將資料整合成新的'DataFrame'\n",
    "df4#顯示答案"
   ]
  },
  {
   "cell_type": "markdown",
   "metadata": {},
   "source": [
    "## Age Demographics"
   ]
  },
  {
   "cell_type": "markdown",
   "metadata": {},
   "source": [
    "* Categorize players using the age groups. Hint: use pd.cut()\n",
    "  * each group is for 4 years (i.e. &lt;10, 10-14, 15-19, etc.)\n",
    "* Calculate the numbers and percentages by age group\n",
    "* Create a summary data frame to hold the results\n",
    "* round the percentage column to two decimal points\n",
    "* Display Age Demographics Table"
   ]
  },
  {
   "cell_type": "code",
   "execution_count": 7,
   "metadata": {},
   "outputs": [
    {
     "data": {
      "text/html": [
       "<div>\n",
       "<style scoped>\n",
       "    .dataframe tbody tr th:only-of-type {\n",
       "        vertical-align: middle;\n",
       "    }\n",
       "\n",
       "    .dataframe tbody tr th {\n",
       "        vertical-align: top;\n",
       "    }\n",
       "\n",
       "    .dataframe thead th {\n",
       "        text-align: right;\n",
       "    }\n",
       "</style>\n",
       "<table border=\"1\" class=\"dataframe\">\n",
       "  <thead>\n",
       "    <tr style=\"text-align: right;\">\n",
       "      <th></th>\n",
       "      <th>Percentage of Players</th>\n",
       "      <th>Total Count</th>\n",
       "    </tr>\n",
       "  </thead>\n",
       "  <tbody>\n",
       "    <tr>\n",
       "      <th>&lt;10</th>\n",
       "      <td>2.951389</td>\n",
       "      <td>17</td>\n",
       "    </tr>\n",
       "    <tr>\n",
       "      <th>10-14</th>\n",
       "      <td>3.819444</td>\n",
       "      <td>22</td>\n",
       "    </tr>\n",
       "    <tr>\n",
       "      <th>15-19</th>\n",
       "      <td>18.576389</td>\n",
       "      <td>107</td>\n",
       "    </tr>\n",
       "    <tr>\n",
       "      <th>20-24</th>\n",
       "      <td>44.791667</td>\n",
       "      <td>258</td>\n",
       "    </tr>\n",
       "    <tr>\n",
       "      <th>25-29</th>\n",
       "      <td>13.368056</td>\n",
       "      <td>77</td>\n",
       "    </tr>\n",
       "    <tr>\n",
       "      <th>30-34</th>\n",
       "      <td>9.027778</td>\n",
       "      <td>52</td>\n",
       "    </tr>\n",
       "    <tr>\n",
       "      <th>35-39</th>\n",
       "      <td>5.381944</td>\n",
       "      <td>31</td>\n",
       "    </tr>\n",
       "    <tr>\n",
       "      <th>40+</th>\n",
       "      <td>2.083333</td>\n",
       "      <td>12</td>\n",
       "    </tr>\n",
       "  </tbody>\n",
       "</table>\n",
       "</div>"
      ],
      "text/plain": [
       "       Percentage of Players  Total Count\n",
       "<10                 2.951389           17\n",
       "10-14               3.819444           22\n",
       "15-19              18.576389          107\n",
       "20-24              44.791667          258\n",
       "25-29              13.368056           77\n",
       "30-34               9.027778           52\n",
       "35-39               5.381944           31\n",
       "40+                 2.083333           12"
      ]
     },
     "execution_count": 7,
     "metadata": {},
     "output_type": "execute_result"
    }
   ],
   "source": [
    "#Problem 5\n",
    "x5=purchase_data[['SN','Age']]#挑出所需資料\n",
    "x5=x5.drop_duplicates(keep='first',inplace=False)#刪除重複\n",
    "x5_1=x5['Age'][x5['Age']<10].count()#計算此年齡層之人數\n",
    "x5_2=x5['Age'][x5['Age']>=10][x5['Age']<15].count()#計算此年齡層之人數\n",
    "x5_3=x5['Age'][x5['Age']>=15][x5['Age']<20].count()#計算此年齡層之人數\n",
    "x5_4=x5['Age'][x5['Age']>=20][x5['Age']<25].count()#計算此年齡層之人數\n",
    "x5_5=x5['Age'][x5['Age']>=25][x5['Age']<30].count()#計算此年齡層之人數\n",
    "x5_6=x5['Age'][x5['Age']>=30][x5['Age']<35].count()#計算此年齡層之人數\n",
    "x5_7=x5['Age'][x5['Age']>=35][x5['Age']<40].count()#計算此年齡層之人數\n",
    "x5_8=x5['Age'][x5['Age']>=40].count()#計算此年齡層之人數\n",
    "total=x5['SN'].count()#計算總人數(扣除重複後)\n",
    "p1,p2,p3,p4=(x5_1/total)*100,(x5_2/total)*100,(x5_3/total)*100,(x5_4/total)*100#計算各年齡層所占百分比\n",
    "p5,p6,p7,p8=(x5_5/total)*100,(x5_6/total)*100,(x5_7/total)*100,(x5_8/total)*100#計算各年齡層所占百分比\n",
    "df5=pd.DataFrame(data=[[p1,x5_1],[p2,x5_2],[p3,x5_3],[p4,x5_4],[p5,x5_5],[p6,x5_6],[p7,x5_7],[p8,x5_8]],columns=['Percentage of Players','Total Count'],index=['<10','10-14','15-19','20-24','25-29','30-34','35-39','40+'])#將資料整合成新的'DataFrame'\n",
    "df5#顯示答案"
   ]
  },
  {
   "cell_type": "markdown",
   "metadata": {},
   "source": [
    "## Purchasing Analysis (Age)"
   ]
  },
  {
   "cell_type": "markdown",
   "metadata": {},
   "source": [
    "* The below each broken into groups of 4 years (i.e. &lt;10, 10-14, 15-19, etc.)\n",
    "  * Purchase Count\n",
    "  * Average Purchase Price\n",
    "  * Total Purchase Value\n",
    "  * Average Purchase Total per Person by Age Group\n",
    "* Bin the purchase_data data frame by age\n",
    "* Run basic calculations to obtain purchase count, avg. purchase price, avg. purchase total per person etc. in the table below\n",
    "* Create a summary data frame to hold the results\n",
    "* Display the summary data frame"
   ]
  },
  {
   "cell_type": "code",
   "execution_count": 8,
   "metadata": {},
   "outputs": [
    {
     "data": {
      "text/html": [
       "<div>\n",
       "<style scoped>\n",
       "    .dataframe tbody tr th:only-of-type {\n",
       "        vertical-align: middle;\n",
       "    }\n",
       "\n",
       "    .dataframe tbody tr th {\n",
       "        vertical-align: top;\n",
       "    }\n",
       "\n",
       "    .dataframe thead th {\n",
       "        text-align: right;\n",
       "    }\n",
       "</style>\n",
       "<table border=\"1\" class=\"dataframe\">\n",
       "  <thead>\n",
       "    <tr style=\"text-align: right;\">\n",
       "      <th></th>\n",
       "      <th>Purchase Count</th>\n",
       "      <th>Average Purchase Price</th>\n",
       "      <th>Total Purchase Value</th>\n",
       "      <th>Average Purchase Total per Person</th>\n",
       "    </tr>\n",
       "  </thead>\n",
       "  <tbody>\n",
       "    <tr>\n",
       "      <th>&lt;10</th>\n",
       "      <td>23</td>\n",
       "      <td>3.315231</td>\n",
       "      <td>77.13</td>\n",
       "      <td>4.537059</td>\n",
       "    </tr>\n",
       "    <tr>\n",
       "      <th>10-14</th>\n",
       "      <td>28</td>\n",
       "      <td>2.934357</td>\n",
       "      <td>82.78</td>\n",
       "      <td>3.762727</td>\n",
       "    </tr>\n",
       "    <tr>\n",
       "      <th>15-19</th>\n",
       "      <td>136</td>\n",
       "      <td>3.034613</td>\n",
       "      <td>412.89</td>\n",
       "      <td>3.858785</td>\n",
       "    </tr>\n",
       "    <tr>\n",
       "      <th>20-24</th>\n",
       "      <td>365</td>\n",
       "      <td>3.039321</td>\n",
       "      <td>1114.06</td>\n",
       "      <td>4.318062</td>\n",
       "    </tr>\n",
       "    <tr>\n",
       "      <th>25-29</th>\n",
       "      <td>101</td>\n",
       "      <td>2.615353</td>\n",
       "      <td>293.00</td>\n",
       "      <td>3.805195</td>\n",
       "    </tr>\n",
       "    <tr>\n",
       "      <th>30-34</th>\n",
       "      <td>73</td>\n",
       "      <td>2.873856</td>\n",
       "      <td>214.00</td>\n",
       "      <td>4.115385</td>\n",
       "    </tr>\n",
       "    <tr>\n",
       "      <th>35-39</th>\n",
       "      <td>41</td>\n",
       "      <td>3.514765</td>\n",
       "      <td>147.67</td>\n",
       "      <td>4.763548</td>\n",
       "    </tr>\n",
       "    <tr>\n",
       "      <th>40+</th>\n",
       "      <td>13</td>\n",
       "      <td>3.060833</td>\n",
       "      <td>38.24</td>\n",
       "      <td>3.186667</td>\n",
       "    </tr>\n",
       "  </tbody>\n",
       "</table>\n",
       "</div>"
      ],
      "text/plain": [
       "       Purchase Count  Average Purchase Price  Total Purchase Value  \\\n",
       "<10                23                3.315231                 77.13   \n",
       "10-14              28                2.934357                 82.78   \n",
       "15-19             136                3.034613                412.89   \n",
       "20-24             365                3.039321               1114.06   \n",
       "25-29             101                2.615353                293.00   \n",
       "30-34              73                2.873856                214.00   \n",
       "35-39              41                3.514765                147.67   \n",
       "40+                13                3.060833                 38.24   \n",
       "\n",
       "       Average Purchase Total per Person  \n",
       "<10                             4.537059  \n",
       "10-14                           3.762727  \n",
       "15-19                           3.858785  \n",
       "20-24                           4.318062  \n",
       "25-29                           3.805195  \n",
       "30-34                           4.115385  \n",
       "35-39                           4.763548  \n",
       "40+                             3.186667  "
      ]
     },
     "execution_count": 8,
     "metadata": {},
     "output_type": "execute_result"
    }
   ],
   "source": [
    "#Problem 6\n",
    "x6=purchase_data[['SN','Age','Price']]#挑出所需資料\n",
    "x6_1=x6['Age'][x6['Age']<10].count()#計算此年齡層之人數\n",
    "x6_2=x6['Age'][x6['Age']>=10][x6['Age']<15].count()#計算此年齡層之人數\n",
    "x6_3=x6['Age'][x6['Age']>=15][x6['Age']<20].count()#計算此年齡層之人數\n",
    "x6_4=x6['Age'][x6['Age']>=20][x6['Age']<25].count()#計算此年齡層之人數\n",
    "x6_5=x6['Age'][x6['Age']>=25][x6['Age']<30].count()#計算此年齡層之人數\n",
    "x6_6=x6['Age'][x6['Age']>=30][x6['Age']<35].count()#計算此年齡層之人數\n",
    "x6_7=x6['Age'][x6['Age']>=35][x6['Age']<40].count()#計算此年齡層之人數\n",
    "x6_8=x6['Age'][x6['Age']>=40].count()#計算此年齡層之人數\n",
    "total_6=x6['SN'].count()#計算總人數\n",
    "#平均\n",
    "y6_1=x6.groupby(x6['Age'][x6['Age']<10])['Price'].mean().mean()#計算此年齡層所花金額之平均\n",
    "y6_2=x6.groupby(x6['Age'][x6['Age']>=10][x6['Age']<15])['Price'].mean().mean()#計算此年齡層所花金額之平均\n",
    "y6_3=x6.groupby(x6['Age'][x6['Age']>=15][x6['Age']<20])['Price'].mean().mean()#計算此年齡層所花金額之平均\n",
    "y6_4=x6.groupby(x6['Age'][x6['Age']>=20][x6['Age']<25])['Price'].mean().mean()#計算此年齡層所花金額之平均\n",
    "y6_5=x6.groupby(x6['Age'][x6['Age']>=25][x6['Age']<30])['Price'].mean().mean()#計算此年齡層所花金額之平均\n",
    "y6_6=x6.groupby(x6['Age'][x6['Age']>=30][x6['Age']<35])['Price'].mean().mean()#計算此年齡層所花金額之平均\n",
    "y6_7=x6.groupby(x6['Age'][x6['Age']>=35][x6['Age']<40])['Price'].mean().mean()#計算此年齡層所花金額之平均\n",
    "y6_8=x6.groupby(x6['Age'][x6['Age']>=40])['Price'].mean().mean()#計算此年齡層所花金額之平均\n",
    "#總和\n",
    "z6_1=x6.groupby(x6['Age'][x6['Age']<10])['Price'].sum().sum()#計算此年齡層所花金額之總和\n",
    "z6_2=x6.groupby(x6['Age'][x6['Age']>=10][x6['Age']<15])['Price'].sum().sum()#計算此年齡層所花金額之總和\n",
    "z6_3=x6.groupby(x6['Age'][x6['Age']>=15][x6['Age']<20])['Price'].sum().sum()#計算此年齡層所花金額之總和\n",
    "z6_4=x6.groupby(x6['Age'][x6['Age']>=20][x6['Age']<25])['Price'].sum().sum()#計算此年齡層所花金額之總和\n",
    "z6_5=x6.groupby(x6['Age'][x6['Age']>=25][x6['Age']<30])['Price'].sum().sum()#計算此年齡層所花金額之總和\n",
    "z6_6=x6.groupby(x6['Age'][x6['Age']>=30][x6['Age']<35])['Price'].sum().sum()#計算此年齡層所花金額之總和\n",
    "z6_7=x6.groupby(x6['Age'][x6['Age']>=35][x6['Age']<40])['Price'].sum().sum()#計算此年齡層所花金額之總和\n",
    "z6_8=x6.groupby(x6['Age'][x6['Age']>=40])['Price'].sum().sum()#計算此年齡層所花金額之總和\n",
    "#刪去重複人數之平均金額\n",
    "w1,w2,w3,w4=z6_1/x5_1,z6_2/x5_2,z6_3/x5_3,z6_4/x5_4#計算刪去重複人數之平均金額\n",
    "w5,w6,w7,w8=z6_5/x5_5,z6_6/x5_6,z6_7/x5_7,z6_8/x5_8#計算刪去重複人數之平均金額\n",
    "df6=pd.DataFrame(data=[[x6_1,y6_1,z6_1,w1],[x6_2,y6_2,z6_2,w2],[x6_3,y6_3,z6_3,w3],[x6_4,y6_4,z6_4,w4],[x6_5,y6_5,z6_5,w5],[x6_6,y6_6,z6_6,w6],[x6_7,y6_7,z6_7,w7],[x6_8,y6_8,z6_8,w8]],columns=['Purchase Count','Average Purchase Price','Total Purchase Value','Average Purchase Total per Person'],index=['<10','10-14','15-19','20-24','25-29','30-34','35-39','40+'])#將資料整合成新的'DataFrame'\n",
    "df6#顯示答案"
   ]
  },
  {
   "cell_type": "markdown",
   "metadata": {},
   "source": [
    "## Top Spenders"
   ]
  },
  {
   "cell_type": "markdown",
   "metadata": {},
   "source": [
    "* Identify the the top 5 spenders in the game by total purchase value (top-5 players with highest total purchase value), then list (in a table):\n",
    "  * SN(screen name)\n",
    "  * Purchase Count\n",
    "  * Average Purchase Price\n",
    "  * Total Purchase Value\n",
    "* Run basic calculations to obtain the results in the table below\n",
    "* Create a summary data frame to hold the results\n",
    "* Sort the total purchase value column in descending order\n",
    "* Display a preview of the summary data frame"
   ]
  },
  {
   "cell_type": "code",
   "execution_count": 9,
   "metadata": {},
   "outputs": [
    {
     "data": {
      "text/html": [
       "<div>\n",
       "<style scoped>\n",
       "    .dataframe tbody tr th:only-of-type {\n",
       "        vertical-align: middle;\n",
       "    }\n",
       "\n",
       "    .dataframe tbody tr th {\n",
       "        vertical-align: top;\n",
       "    }\n",
       "\n",
       "    .dataframe thead th {\n",
       "        text-align: right;\n",
       "    }\n",
       "</style>\n",
       "<table border=\"1\" class=\"dataframe\">\n",
       "  <thead>\n",
       "    <tr style=\"text-align: right;\">\n",
       "      <th></th>\n",
       "      <th>Purchase Count</th>\n",
       "      <th>Average_Purchas_Price</th>\n",
       "      <th>Total Purchase Value</th>\n",
       "    </tr>\n",
       "    <tr>\n",
       "      <th>SN</th>\n",
       "      <th></th>\n",
       "      <th></th>\n",
       "      <th></th>\n",
       "    </tr>\n",
       "  </thead>\n",
       "  <tbody>\n",
       "    <tr>\n",
       "      <th>Lisosia93</th>\n",
       "      <td>5</td>\n",
       "      <td>3.792000</td>\n",
       "      <td>18.96</td>\n",
       "    </tr>\n",
       "    <tr>\n",
       "      <th>Idastidru52</th>\n",
       "      <td>4</td>\n",
       "      <td>3.862500</td>\n",
       "      <td>15.45</td>\n",
       "    </tr>\n",
       "    <tr>\n",
       "      <th>Chamjask73</th>\n",
       "      <td>3</td>\n",
       "      <td>4.610000</td>\n",
       "      <td>13.83</td>\n",
       "    </tr>\n",
       "    <tr>\n",
       "      <th>Iral74</th>\n",
       "      <td>4</td>\n",
       "      <td>3.405000</td>\n",
       "      <td>13.62</td>\n",
       "    </tr>\n",
       "    <tr>\n",
       "      <th>Iskadarya95</th>\n",
       "      <td>3</td>\n",
       "      <td>4.366667</td>\n",
       "      <td>13.10</td>\n",
       "    </tr>\n",
       "  </tbody>\n",
       "</table>\n",
       "</div>"
      ],
      "text/plain": [
       "             Purchase Count  Average_Purchas_Price  Total Purchase Value\n",
       "SN                                                                      \n",
       "Lisosia93                 5               3.792000                 18.96\n",
       "Idastidru52               4               3.862500                 15.45\n",
       "Chamjask73                3               4.610000                 13.83\n",
       "Iral74                    4               3.405000                 13.62\n",
       "Iskadarya95               3               4.366667                 13.10"
      ]
     },
     "execution_count": 9,
     "metadata": {},
     "output_type": "execute_result"
    }
   ],
   "source": [
    "#Problem 7\n",
    "x7=purchase_data[['SN','Price','Item Name']]#挑出所需資料\n",
    "y7=x7.groupby('SN')[['Price']].sum()#以各個'SN'為index，計算各'SN'所花金額之總和\n",
    "z7=x7.groupby('SN')[['Item Name']].count()#以各個'SN'為index，計算各'SN'所買產品之數量\n",
    "w7=x7.groupby('SN')[['Price']].mean()#以各個'SN'為index，計算各'SN'所花金額之平均\n",
    "y7=y7.sort_values(['Price'],ascending=False)#金額總和由大到小排序\n",
    "z7=z7.sort_values(['Item Name'],ascending=False)#物品數量由大到小排序\n",
    "w7=w7.sort_values(['Price'],ascending=False)#金額平均由大到小排序\n",
    "df7=y7.head(5).join(z7)#取出金額總和前五高之玩家，並將購買物品之數量加入y7\n",
    "Average_Purchas_Price=[df7['Price'][0]/df7['Item Name'][0],df7['Price'][1]/df7['Item Name'][1],df7['Price'][2]/df7['Item Name'][2],df7['Price'][3]/df7['Item Name'][3],df7['Price'][4]/df7['Item Name'][4]]#計算各產品平均花費金額\n",
    "df7['Average_Purchas_Price']=Average_Purchas_Price#將資料'Average_Purchas_Price'加入df7\n",
    "df7=df7.rename(columns={'Price':'Total Purchase Value','Item Name':'Purchase Count'})#變更columns之名稱\n",
    "df7[['Purchase Count','Average_Purchas_Price','Total Purchase Value']]#輸出答案"
   ]
  },
  {
   "cell_type": "markdown",
   "metadata": {},
   "source": [
    "## Most Popular Items"
   ]
  },
  {
   "cell_type": "markdown",
   "metadata": {},
   "source": [
    "* Top 5 most popular items by purchase count:\n",
    "  * Item ID\n",
    "  * Item Name\n",
    "  * Purchase Count\n",
    "  * Item Price\n",
    "  * Total Purchase Value\n",
    "* Retrieve the Item ID, Item Name, and Item Price columns\n",
    "* Group by Item ID and Item Name. Perform calculations to obtain purchase count, item price, and total purchase value\n",
    "* Create a summary data frame to hold the results\n",
    "* Sort the purchase count column in descending order\n",
    "* Display a preview of the summary data frame"
   ]
  },
  {
   "cell_type": "code",
   "execution_count": 10,
   "metadata": {},
   "outputs": [
    {
     "data": {
      "text/html": [
       "<div>\n",
       "<style scoped>\n",
       "    .dataframe tbody tr th:only-of-type {\n",
       "        vertical-align: middle;\n",
       "    }\n",
       "\n",
       "    .dataframe tbody tr th {\n",
       "        vertical-align: top;\n",
       "    }\n",
       "\n",
       "    .dataframe thead th {\n",
       "        text-align: right;\n",
       "    }\n",
       "</style>\n",
       "<table border=\"1\" class=\"dataframe\">\n",
       "  <thead>\n",
       "    <tr style=\"text-align: right;\">\n",
       "      <th></th>\n",
       "      <th>Purchase Count</th>\n",
       "      <th>Item Price</th>\n",
       "      <th>Total Purchase Value</th>\n",
       "    </tr>\n",
       "    <tr>\n",
       "      <th>Item Name</th>\n",
       "      <th></th>\n",
       "      <th></th>\n",
       "      <th></th>\n",
       "    </tr>\n",
       "  </thead>\n",
       "  <tbody>\n",
       "    <tr>\n",
       "      <th>Final Critic</th>\n",
       "      <td>13</td>\n",
       "      <td>4.614615</td>\n",
       "      <td>59.99</td>\n",
       "    </tr>\n",
       "    <tr>\n",
       "      <th>Oathbreaker, Last Hope of the Breaking Storm</th>\n",
       "      <td>12</td>\n",
       "      <td>4.230000</td>\n",
       "      <td>50.76</td>\n",
       "    </tr>\n",
       "    <tr>\n",
       "      <th>Persuasion</th>\n",
       "      <td>9</td>\n",
       "      <td>3.221111</td>\n",
       "      <td>28.99</td>\n",
       "    </tr>\n",
       "    <tr>\n",
       "      <th>Nirvana</th>\n",
       "      <td>9</td>\n",
       "      <td>4.900000</td>\n",
       "      <td>44.10</td>\n",
       "    </tr>\n",
       "    <tr>\n",
       "      <th>Extraction, Quickblade Of Trembling Hands</th>\n",
       "      <td>9</td>\n",
       "      <td>3.530000</td>\n",
       "      <td>31.77</td>\n",
       "    </tr>\n",
       "  </tbody>\n",
       "</table>\n",
       "</div>"
      ],
      "text/plain": [
       "                                              Purchase Count  Item Price  \\\n",
       "Item Name                                                                  \n",
       "Final Critic                                              13    4.614615   \n",
       "Oathbreaker, Last Hope of the Breaking Storm              12    4.230000   \n",
       "Persuasion                                                 9    3.221111   \n",
       "Nirvana                                                    9    4.900000   \n",
       "Extraction, Quickblade Of Trembling Hands                  9    3.530000   \n",
       "\n",
       "                                              Total Purchase Value  \n",
       "Item Name                                                           \n",
       "Final Critic                                                 59.99  \n",
       "Oathbreaker, Last Hope of the Breaking Storm                 50.76  \n",
       "Persuasion                                                   28.99  \n",
       "Nirvana                                                      44.10  \n",
       "Extraction, Quickblade Of Trembling Hands                    31.77  "
      ]
     },
     "execution_count": 10,
     "metadata": {},
     "output_type": "execute_result"
    }
   ],
   "source": [
    "#Problem 8\n",
    "x8=purchase_data[['Price','Item Name','SN']]#挑出所需資料\n",
    "x8=x8.drop_duplicates(keep='first',inplace=False)#刪除重複\n",
    "y8=x8.groupby('Item Name')[['SN']].count()#以各個'Item Name'為index，計算每個產品的銷售數量\n",
    "z8=x8.groupby('Item Name')[['Price']].sum()#以各個'Item Name'為index，計算每個產品的銷售金額總和\n",
    "y8=y8.sort_values(['SN'],ascending=False)#每個產品的銷售數量由大到小排序\n",
    "z8=z8.sort_values(['Price'],ascending=False)#每個產品的銷售金額由大到小排序\n",
    "df8=y8.join(z8).head(5)#整合銷售金額與數量，並選出前五高\n",
    "Price=[df8['Price'][0]/df8['SN'][0],df8['Price'][1]/df8['SN'][1],df8['Price'][2]/df8['SN'][2],df8['Price'][3]/df8['SN'][3],df8['Price'][4]/df8['SN'][4]]#計算產品之金額\n",
    "df8['Item Price']=Price#將產品金額加入df8\n",
    "df8=df8.rename(columns={'SN':'Purchase Count','Price':'Total Purchase Value'})#變更columns之名稱\n",
    "df8[['Purchase Count','Item Price','Total Purchase Value']]#輸出答案"
   ]
  },
  {
   "cell_type": "markdown",
   "metadata": {},
   "source": [
    "## Most Profitable Items"
   ]
  },
  {
   "cell_type": "markdown",
   "metadata": {},
   "source": [
    "* Top 5 most profitable items by total purchase value:\n",
    "  * Item ID\n",
    "  * Item Name\n",
    "  * Purchase Count\n",
    "  * Item Price\n",
    "  * Total Purchase Value\n",
    "* Sort the above table by total purchase value in descending order\n",
    "* Display a preview of the data frame"
   ]
  },
  {
   "cell_type": "code",
   "execution_count": 11,
   "metadata": {
    "scrolled": true
   },
   "outputs": [
    {
     "data": {
      "text/html": [
       "<div>\n",
       "<style scoped>\n",
       "    .dataframe tbody tr th:only-of-type {\n",
       "        vertical-align: middle;\n",
       "    }\n",
       "\n",
       "    .dataframe tbody tr th {\n",
       "        vertical-align: top;\n",
       "    }\n",
       "\n",
       "    .dataframe thead th {\n",
       "        text-align: right;\n",
       "    }\n",
       "</style>\n",
       "<table border=\"1\" class=\"dataframe\">\n",
       "  <thead>\n",
       "    <tr style=\"text-align: right;\">\n",
       "      <th></th>\n",
       "      <th>Purchase Count</th>\n",
       "      <th>Item Price</th>\n",
       "      <th>Total Purchase Value</th>\n",
       "    </tr>\n",
       "    <tr>\n",
       "      <th>Item Name</th>\n",
       "      <th></th>\n",
       "      <th></th>\n",
       "      <th></th>\n",
       "    </tr>\n",
       "  </thead>\n",
       "  <tbody>\n",
       "    <tr>\n",
       "      <th>Final Critic</th>\n",
       "      <td>13</td>\n",
       "      <td>4.614615</td>\n",
       "      <td>59.99</td>\n",
       "    </tr>\n",
       "    <tr>\n",
       "      <th>Oathbreaker, Last Hope of the Breaking Storm</th>\n",
       "      <td>12</td>\n",
       "      <td>4.230000</td>\n",
       "      <td>50.76</td>\n",
       "    </tr>\n",
       "    <tr>\n",
       "      <th>Nirvana</th>\n",
       "      <td>9</td>\n",
       "      <td>4.900000</td>\n",
       "      <td>44.10</td>\n",
       "    </tr>\n",
       "    <tr>\n",
       "      <th>Fiery Glass Crusader</th>\n",
       "      <td>9</td>\n",
       "      <td>4.580000</td>\n",
       "      <td>41.22</td>\n",
       "    </tr>\n",
       "    <tr>\n",
       "      <th>Singed Scalpel</th>\n",
       "      <td>8</td>\n",
       "      <td>4.350000</td>\n",
       "      <td>34.80</td>\n",
       "    </tr>\n",
       "  </tbody>\n",
       "</table>\n",
       "</div>"
      ],
      "text/plain": [
       "                                              Purchase Count  Item Price  \\\n",
       "Item Name                                                                  \n",
       "Final Critic                                              13    4.614615   \n",
       "Oathbreaker, Last Hope of the Breaking Storm              12    4.230000   \n",
       "Nirvana                                                    9    4.900000   \n",
       "Fiery Glass Crusader                                       9    4.580000   \n",
       "Singed Scalpel                                             8    4.350000   \n",
       "\n",
       "                                              Total Purchase Value  \n",
       "Item Name                                                           \n",
       "Final Critic                                                 59.99  \n",
       "Oathbreaker, Last Hope of the Breaking Storm                 50.76  \n",
       "Nirvana                                                      44.10  \n",
       "Fiery Glass Crusader                                         41.22  \n",
       "Singed Scalpel                                               34.80  "
      ]
     },
     "execution_count": 11,
     "metadata": {},
     "output_type": "execute_result"
    }
   ],
   "source": [
    "#Problem 9\n",
    "x9=purchase_data[['Price','Item Name','SN']]#挑出所需資料\n",
    "x9=x9.drop_duplicates(keep='first',inplace=False)#刪除重複\n",
    "y9=x9.groupby('Item Name')[['SN']].count()#以各個'Item Name'為index，計算每個產品的銷售數量\n",
    "z9=x9.groupby('Item Name')[['Price']].sum()#以各個'Item Name'為index，計算每個產品的銷售金額總和\n",
    "y9=y9.sort_values(['SN'],ascending=False)#每個產品的銷售數量由大到小排序\n",
    "z9=z9.sort_values(['Price'],ascending=False)#每個產品的銷售金額由大到小排序\n",
    "df9=z8.join(y8).head(5)#列出總花費前五高之玩家\n",
    "Price=[df9['Price'][0]/df9['SN'][0],df9['Price'][1]/df9['SN'][1],df9['Price'][2]/df9['SN'][2],df9['Price'][3]/df9['SN'][3],df9['Price'][4]/df9['SN'][4]]#計算產品金額\n",
    "df9['Item Price']=Price#將產品金額加入df9\n",
    "df9=df9.rename(columns={'SN':'Purchase Count','Price':'Total Purchase Value'})#變更columns之名稱\n",
    "df9[['Purchase Count','Item Price','Total Purchase Value']]#輸出答案"
   ]
  },
  {
   "cell_type": "code",
   "execution_count": null,
   "metadata": {},
   "outputs": [],
   "source": []
  }
 ],
 "metadata": {
  "anaconda-cloud": {},
  "kernel_info": {
   "name": "python3"
  },
  "kernelspec": {
   "display_name": "Python 3",
   "language": "python",
   "name": "python3"
  },
  "language_info": {
   "codemirror_mode": {
    "name": "ipython",
    "version": 3
   },
   "file_extension": ".py",
   "mimetype": "text/x-python",
   "name": "python",
   "nbconvert_exporter": "python",
   "pygments_lexer": "ipython3",
   "version": "3.8.8"
  },
  "nteract": {
   "version": "0.8.4"
  }
 },
 "nbformat": 4,
 "nbformat_minor": 2
}
